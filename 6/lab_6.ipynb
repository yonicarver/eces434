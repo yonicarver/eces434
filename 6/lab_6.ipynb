{
 "cells": [
  {
   "cell_type": "markdown",
   "metadata": {},
   "source": [
    "# Lab 6\n",
    "*In this lab we will, as a class, create the grading script for the final project.*"
   ]
  },
  {
   "cell_type": "code",
   "execution_count": 1,
   "metadata": {},
   "outputs": [],
   "source": [
    "import librosa\n",
    "import numpy as np\n",
    "import sys\n",
    "import pickle\n",
    "import time\n",
    "import IPython.display as ipd\n",
    "from codec import encode, decode"
   ]
  },
  {
   "cell_type": "markdown",
   "metadata": {},
   "source": [
    "---\n",
    "## Import Audio File\n",
    "*Load in an audio file to test with codec.*"
   ]
  },
  {
   "cell_type": "code",
   "execution_count": 2,
   "metadata": {},
   "outputs": [],
   "source": [
    "def load_cd_quality_audio(filename):\n",
    "    audio, sr = librosa.load(filename, sr=44100, dtype='float_')\n",
    "    max_int_value = 2**15 - 1\n",
    "    audio *= max_int_value     # get audio signal frm lowest max_int_value to highest max_int_value, get it in the right range    audio = audio.astype('int16')\n",
    "    audio = audio.astype('int16')\n",
    "    return audio\n",
    "\n",
    "x = load_cd_quality_audio('taxman.wav')"
   ]
  },
  {
   "cell_type": "markdown",
   "metadata": {},
   "source": [
    "---\n",
    "## Runtime\n",
    "*Encode and decode the audio. Time the processes.*"
   ]
  },
  {
   "cell_type": "code",
   "execution_count": 3,
   "metadata": {},
   "outputs": [
    {
     "name": "stdout",
     "output_type": "stream",
     "text": [
      "Encode run time: 23.45958662033081\n",
      "Decode run time: 41.438312292099\n"
     ]
    }
   ],
   "source": [
    "encodeStartTime = time.time()     # start timer\n",
    "x_encoded = encode(x)\n",
    "ert = time.time() - encodeStartTime     # encode run time\n",
    "print(f\"Encode run time: {ert}\")\n",
    "\n",
    "decodeStartTime = time.time()\n",
    "x_decoded = decode(x)\n",
    "drt = time.time() - decodeStartTime\n",
    "print(f\"Decode run time: {drt}\")"
   ]
  },
  {
   "cell_type": "markdown",
   "metadata": {},
   "source": [
    "---\n",
    "## Format Check\n",
    "*Check to make sure the decoded audio is mono 16 bit.*"
   ]
  },
  {
   "cell_type": "code",
   "execution_count": 4,
   "metadata": {},
   "outputs": [
    {
     "name": "stdout",
     "output_type": "stream",
     "text": [
      "Your decoded signal passes the format check.\n"
     ]
    }
   ],
   "source": [
    "def check_decoded_output(d):\n",
    "    if type(d) != np.ndarray:\n",
    "        print(\"Your decoded signal is not a numpy array!\")\n",
    "    elif d.dtype != \"int16\":\n",
    "        print(\"Your decoded signal is not 16 bit!\")\n",
    "    elif len(d.shape) != 1:\n",
    "        print(\"Your decoded signal is not a 1D vector!\")\n",
    "    else:\n",
    "        print(\"Your decoded signal passes the format check.\")\n",
    "\n",
    "check_decoded_output(x_decoded)"
   ]
  },
  {
   "cell_type": "markdown",
   "metadata": {},
   "source": [
    "---\n",
    "## Compression Ratio\n",
    "*Compare the sizes of the original and encoded structures.*"
   ]
  },
  {
   "cell_type": "code",
   "execution_count": 5,
   "metadata": {},
   "outputs": [
    {
     "name": "stdout",
     "output_type": "stream",
     "text": [
      "Compression ratio: 1.999972319097454\n"
     ]
    }
   ],
   "source": [
    "def compressionRatio(original, encoded):\n",
    "    o_str = pickle.dumps(original)\n",
    "    e_str = pickle.dumps(encoded)\n",
    "    return sys.getsizeof(o_str) / sys.getsizeof(e_str)\n",
    "\n",
    "cr = compressionRatio(x, x_encoded)\n",
    "print(f\"Compression ratio: {cr}\")"
   ]
  },
  {
   "cell_type": "markdown",
   "metadata": {},
   "source": [
    "---\n",
    "## SNR\n",
    "*Compare the original signal content to the decoded version.*"
   ]
  },
  {
   "cell_type": "code",
   "execution_count": 6,
   "metadata": {},
   "outputs": [
    {
     "name": "stdout",
     "output_type": "stream",
     "text": [
      "SNR: -4.878775252821266\n"
     ]
    }
   ],
   "source": [
    "def signalToNoise(original, decoded):\n",
    "    # higher SNR, the better\n",
    "    \n",
    "    original = original.astype(\"float_\")\n",
    "    decoded = decoded.astype(\"float_\")\n",
    "    \n",
    "    # force the signals to be the same length\n",
    "    diff = len(original) - len(decoded)\n",
    "    if diff < 0:\n",
    "        decoded = decoded[:diff]\n",
    "    if diff > 0:\n",
    "        decoded = np.append(decoded, np.zeros((diff, 1)))\n",
    "        \n",
    "    # computs SNR\n",
    "    signal = np.power(original, 2)\n",
    "    noise = np.power(original - decoded, 2)\n",
    "    \n",
    "    # replace all 0's with the smallest value in Python so we avoid dividing by 0\n",
    "    signal = np.where(signal == 0, np.finfo(np.float32).eps, signal)\n",
    "    noise = np.where(noise == 0, np.finfo(np.float32).eps, noise)\n",
    "    \n",
    "    return np.mean(10 * np.log10(signal / noise))\n",
    "\n",
    "snr = signalToNoise(x, x_decoded)\n",
    "print(f\"SNR: {snr}\")"
   ]
  },
  {
   "cell_type": "markdown",
   "metadata": {},
   "source": [
    "---\n",
    "## Evaluate Codec\n",
    "*Print out evalutation of codec. Listen to the results.*"
   ]
  },
  {
   "cell_type": "code",
   "execution_count": 7,
   "metadata": {
    "scrolled": true
   },
   "outputs": [
    {
     "name": "stdout",
     "output_type": "stream",
     "text": [
      "Compression Ratio:  2.0\n",
      "\n",
      "Total Runtime:  64.8979\n",
      "\tEncode Runtime:  23.4596\n",
      "\tDecode Runtime:  41.4383\n",
      "\n",
      "SNR:  -4.8788\n"
     ]
    }
   ],
   "source": [
    "print(\"Compression Ratio: \", str(round(cr, 4)))\n",
    "print()\n",
    "print(\"Total Runtime: \", str(round(ert + drt, 4)))\n",
    "print(\"\\tEncode Runtime: \", str(round(ert, 4)))\n",
    "print(\"\\tDecode Runtime: \", str(round(drt, 4)))\n",
    "print()\n",
    "print(\"SNR: \", str(round(snr, 4)))"
   ]
  },
  {
   "cell_type": "code",
   "execution_count": null,
   "metadata": {},
   "outputs": [
    {
     "name": "stdout",
     "output_type": "stream",
     "text": [
      "Original Signal\n"
     ]
    }
   ],
   "source": [
    "print(\"Original Signal\")\n",
    "ipd.Audio(x, rate=44100)"
   ]
  },
  {
   "cell_type": "code",
   "execution_count": null,
   "metadata": {},
   "outputs": [],
   "source": [
    "print(\"Decoded Signal\")\n",
    "ipd.Audio(x_decoded, rate=44100)"
   ]
  }
 ],
 "metadata": {
  "kernelspec": {
   "display_name": "Python 3",
   "language": "python",
   "name": "python3"
  },
  "language_info": {
   "codemirror_mode": {
    "name": "ipython",
    "version": 3
   },
   "file_extension": ".py",
   "mimetype": "text/x-python",
   "name": "python",
   "nbconvert_exporter": "python",
   "pygments_lexer": "ipython3",
   "version": "3.7.3"
  }
 },
 "nbformat": 4,
 "nbformat_minor": 2
}
