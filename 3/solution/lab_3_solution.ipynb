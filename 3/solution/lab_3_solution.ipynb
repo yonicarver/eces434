{
 "cells": [
  {
   "cell_type": "markdown",
   "metadata": {},
   "source": [
    "# Lab 3 - Filters and Z Transforms\n",
    "## SOLUTION\n",
    "\n",
    "*This week, the lab will work through plotting the impulse response and z transform of filters.*"
   ]
  },
  {
   "cell_type": "code",
   "execution_count": 1,
   "metadata": {},
   "outputs": [],
   "source": [
    "import numpy as np\n",
    "import matplotlib.pyplot as plt\n",
    "import IPython.display as ipd\n",
    "from scipy import signal\n",
    "\n",
    "%matplotlib inline"
   ]
  },
  {
   "cell_type": "markdown",
   "metadata": {},
   "source": [
    "### (a)\n",
    "Find the transfer function H(z) for the filter corresponding to the following difference equation:\n",
    "\n",
    "$$ y[n] = 0.9y[n-1] + 1.8x[n] $$\n",
    "\n",
    "Briefly show your work using Latex syntax."
   ]
  },
  {
   "cell_type": "markdown",
   "metadata": {},
   "source": [
    "***Hint:*** Latex syntax should go between two pairs of dollar signs. Here's an example calculation.\n",
    "\n",
    "$$ x^{2} - 4 = 0 $$\n",
    "\n",
    "$$ (x-2)(x+2) = 0 $$\n",
    "\n",
    "$$ x = 2, x = -2 $$\n",
    "\n",
    "Also, fractions can be made like this:\n",
    "\n",
    "$$ \\frac{3x - 4}{x + 6} $$"
   ]
  },
  {
   "cell_type": "markdown",
   "metadata": {},
   "source": [
    "### Your Answer:\n",
    "Take the z-transform of both sides to get:\n",
    "\n",
    "$$ Y(z) = 0.9z^{-1}Y(z) + 1.8X(z) $$\n",
    "\n",
    "$$ Y(z) - 0.9z^{-1}Y(z) = 1.8X(z) $$\n",
    "\n",
    "$$ Y(z)(1 - 0.9z^{-1}) = 1.8X(z) $$\n",
    "\n",
    "$$ H(z) = \\frac{Y(z)}{X(z)} = \\frac{1.8}{1 - 0.9z^{-1}} $$"
   ]
  },
  {
   "cell_type": "markdown",
   "metadata": {},
   "source": [
    "### (b)\n",
    "Find the causal impulse response h[n] for the above system.\n",
    "\n",
    "***Hint:*** You may refer to a z transform table.\n"
   ]
  },
  {
   "cell_type": "markdown",
   "metadata": {},
   "source": [
    "### Your Answer:\n",
    "\n",
    "$$ h[n] = 1.8(0.9)^{n}u[n] $$"
   ]
  },
  {
   "cell_type": "markdown",
   "metadata": {},
   "source": [
    "### (c)\n",
    "Plot the first 20 samples of the impulse response h[n]. What kind of filter is this?\n",
    "\n",
    "***Hint:*** the signal.dlti() function takes as input two lists, the transfer function's numerator coefficients and denominator coefficients."
   ]
  },
  {
   "cell_type": "markdown",
   "metadata": {},
   "source": [
    "### Your Answer:\n"
   ]
  },
  {
   "cell_type": "code",
   "execution_count": 19,
   "metadata": {},
   "outputs": [
    {
     "data": {
      "image/png": "[encoded data removed]",
      "text/plain": [
       "<Figure size 1080x360 with 1 Axes>"
      ]
     },
     "metadata": {},
     "output_type": "display_data"
    }
   ],
   "source": [
    "##### to do #####\n",
    "# determine the transfer function coefficients\n",
    "numH = [1.8, 0]\n",
    "denH = [1, -0.9]\n",
    "\n",
    "# compute the impulse response\n",
    "systemH = signal.dlti(numH, denH)\n",
    "n, h = signal.dimpulse(systemH, n=20)\n",
    "\n",
    "# plot the impulse response\n",
    "plt.figure(figsize = (15,5))\n",
    "plt.stem(n,np.squeeze(h));"
   ]
  },
  {
   "cell_type": "markdown",
   "metadata": {},
   "source": [
    "### (d)\n",
    "Plot any poles and zeros of this filter on the z plane. Is the system stable?\n",
    "\n",
    "***Hint:*** You may consider using the following functions:\n",
    "- signal.ZerosPolesGain()\n",
    "- plt.scatter()\n",
    "\n",
    "Also, remember that if x is a complex number, x.real and x.imag are its components."
   ]
  },
  {
   "cell_type": "markdown",
   "metadata": {},
   "source": [
    "### Your Answer:"
   ]
  },
  {
   "cell_type": "code",
   "execution_count": 20,
   "metadata": {},
   "outputs": [
    {
     "data": {
      "image/png": "[encoded data removed]",
      "text/plain": [
       "<Figure size 360x360 with 1 Axes>"
      ]
     },
     "metadata": {},
     "output_type": "display_data"
    }
   ],
   "source": [
    "# make plot with axes\n",
    "fig,ax = plt.subplots(1,1,figsize=(5,5))\n",
    "ax.axhline(y=0, color='k')\n",
    "ax.axvline(x=0, color='k')\n",
    "\n",
    "# draw unit circle\n",
    "t = np.linspace(0,np.pi*2,100)\n",
    "plt.plot(np.cos(t), np.sin(t), linewidth=1)\n",
    "\n",
    "##### to do #####\n",
    "# plot the poles and zeros of system H\n",
    "H = signal.ZerosPolesGain(systemH)\n",
    "\n",
    "plt.scatter(H.poles.real, H.poles.imag, marker=\"x\");\n",
    "plt.scatter(H.zeros.real, H.zeros.imag, marker=\"o\");"
   ]
  },
  {
   "cell_type": "markdown",
   "metadata": {},
   "source": [
    "### (e)\n",
    "Condsider feeding the output of this system directly into another system, G(z). Find a transfer function for G(z) such that any input signal after going through H(z) and then G(z) will come out unchanged. In other words, G(z) cancels all effects of H(z)."
   ]
  },
  {
   "cell_type": "markdown",
   "metadata": {},
   "source": [
    "### Your Answer:\n",
    "$$ G(z) = \\frac{1 - 0.9z^{-1}}{1.8} $$"
   ]
  },
  {
   "cell_type": "markdown",
   "metadata": {},
   "source": [
    "### (f)\n",
    "Find the causal impulse response g[n] for G(z)."
   ]
  },
  {
   "cell_type": "markdown",
   "metadata": {},
   "source": [
    "### Your Answer:\n",
    "\n",
    "$$ g[n] = 0.\\overline{5}\\delta[n]-0.5\\delta[n-1] $$"
   ]
  },
  {
   "cell_type": "markdown",
   "metadata": {},
   "source": [
    "### (g)\n",
    "Plot the first 20 samples of the impulse response h[n]. What kind of filter is this?\n",
    "\n",
    "***Hint:*** you may consider using the following functions:\n",
    "- signal.dlti()\n",
    "- signal.dimpulse()\n",
    "- plt.stem()\n",
    "- np.squeeze()"
   ]
  },
  {
   "cell_type": "markdown",
   "metadata": {},
   "source": [
    "### Your Answer:"
   ]
  },
  {
   "cell_type": "code",
   "execution_count": 21,
   "metadata": {},
   "outputs": [
    {
     "data": {
      "image/png": "[encoded data removed]",
      "text/plain": [
       "<Figure size 1080x360 with 1 Axes>"
      ]
     },
     "metadata": {},
     "output_type": "display_data"
    }
   ],
   "source": [
    "##### to do #####\n",
    "\n",
    "# determine the transfer function coefficients\n",
    "numG = [1, -0.9] \n",
    "denG = [1.8, 0]\n",
    "\n",
    "# compute the impulse response\n",
    "systemG = signal.dlti(numG,denG)\n",
    "n, g = signal.dimpulse(systemG, n=20)\n",
    "\n",
    "# plot the impulse response\n",
    "plt.figure(figsize = (15,5))\n",
    "plt.stem(n,np.squeeze(g));"
   ]
  },
  {
   "cell_type": "markdown",
   "metadata": {},
   "source": [
    "### (h)\n",
    "Plot any poles and zeros of this filter G(z) on the z plane. Is the system stable?"
   ]
  },
  {
   "cell_type": "markdown",
   "metadata": {},
   "source": [
    "### Your Answer:"
   ]
  },
  {
   "cell_type": "code",
   "execution_count": 22,
   "metadata": {},
   "outputs": [
    {
     "data": {
      "image/png": "[encoded data removed]",
      "text/plain": [
       "<Figure size 360x360 with 1 Axes>"
      ]
     },
     "metadata": {},
     "output_type": "display_data"
    }
   ],
   "source": [
    "# make plot with axes\n",
    "fig,ax = plt.subplots(1,1,figsize=(5,5))\n",
    "ax.axhline(y=0, color='k')\n",
    "ax.axvline(x=0, color='k')\n",
    "\n",
    "# draw unit circle\n",
    "t = np.linspace(0,np.pi*2,100)\n",
    "plt.plot(np.cos(t), np.sin(t), linewidth=1)\n",
    "\n",
    "##### to do #####\n",
    "# plot the poles and zeros of system G\n",
    "G = signal.ZerosPolesGain(systemG)\n",
    "\n",
    "plt.scatter(G.poles.real,G.poles.imag,marker=\"x\");\n",
    "plt.scatter(G.zeros.real,G.zeros.imag,marker=\"o\");"
   ]
  }
 ],
 "metadata": {
  "kernelspec": {
   "display_name": "Python 3",
   "language": "python",
   "name": "python3"
  },
  "language_info": {
   "codemirror_mode": {
    "name": "ipython",
    "version": 3
   },
   "file_extension": ".py",
   "mimetype": "text/x-python",
   "name": "python",
   "nbconvert_exporter": "python",
   "pygments_lexer": "ipython3",
   "version": "3.6.5"
  }
 },
 "nbformat": 4,
 "nbformat_minor": 2
}
